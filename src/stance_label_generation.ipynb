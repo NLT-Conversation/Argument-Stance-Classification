{
 "cells": [
  {
   "cell_type": "code",
   "execution_count": 2,
   "metadata": {
    "collapsed": true
   },
   "outputs": [],
   "source": [
    "import util.dataloader.IACDataLoader as iac"
   ]
  },
  {
   "cell_type": "code",
   "execution_count": 3,
   "metadata": {},
   "outputs": [
    {
     "name": "stdout",
     "output_type": "stream",
     "text": [
      "Loading dataset files...\n",
      "5000 dicussions were loaded\n",
      "10000 dicussions were loaded\n",
      "11799 dicussions were loaded\n",
      "Loading topic file...\n",
      "Loading author stance file...\n"
     ]
    }
   ],
   "source": [
    "dataloader = iac.IACDataLoader()\n",
    "dataloader.set_dataset_dir(\"dataset/discussions\")\n",
    "dataloader.set_topic_filepath(\"dataset/topic.csv\")\n",
    "dataloader.set_stance_filepath(\"dataset/author_stance.csv\")\n",
    "dataloader.load()\n",
    "topic_dict = dataloader.get_topic_dict()\n",
    "d_dict = dataloader.get_discussion_dict()\n",
    "d_author_stance_dict = dataloader.get_discussion_author_stance_dict() # added\n",
    "\n",
    "topic_list = sorted(topic_dict.keys())"
   ]
  },
  {
   "cell_type": "markdown",
   "metadata": {},
   "source": [
    "# 30 Class Classification"
   ]
  },
  {
   "cell_type": "code",
   "execution_count": 6,
   "metadata": {
    "collapsed": true
   },
   "outputs": [],
   "source": [
    "files = dict()\n",
    "for topic in topic_dict.keys():\n",
    "    topic_s = topic.replace(' ', '-')\n",
    "    files[topic] = {'pro': open('dataset/stance/'+topic_s+'.pro.txt', 'w'),\n",
    "                    'anti': open('dataset/stance/'+topic_s+'.anti.txt', 'w'),\n",
    "                    'other': open('dataset/stance/'+topic_s+'.other.txt', 'w')}"
   ]
  },
  {
   "cell_type": "code",
   "execution_count": 7,
   "metadata": {
    "collapsed": true
   },
   "outputs": [],
   "source": [
    "for topic in topic_dict.keys():\n",
    "    for d_id in topic_dict[topic]:\n",
    "        post_list = d_dict[d_id].get_posts()\n",
    "        for post in post_list:\n",
    "            author = post.get_author()\n",
    "            text = post.get_raw_text().replace('\\n','')\n",
    "            if d_id in d_author_stance_dict.keys():\n",
    "                if author in d_author_stance_dict[d_id].keys():\n",
    "                    stance = d_author_stance_dict[d_id][author]\n",
    "                    files[topic][stance].write(text+'\\n')"
   ]
  },
  {
   "cell_type": "markdown",
   "metadata": {},
   "source": [
    "# 10 Classes - by topics"
   ]
  },
  {
   "cell_type": "code",
   "execution_count": 10,
   "metadata": {
    "collapsed": true
   },
   "outputs": [],
   "source": [
    "# topic files\n",
    "files = dict()\n",
    "for topic in topic_dict.keys():\n",
    "    topic_s = topic.replace(' ', '-')\n",
    "    files[topic] = {'pro': open('dataset/stance/'+topic_s+'.pro.txt', 'r'),\n",
    "                    'anti': open('dataset/stance/'+topic_s+'.anti.txt', 'r'),\n",
    "                    'other': open('dataset/stance/'+topic_s+'.other.txt', 'r')}\n",
    "    "
   ]
  },
  {
   "cell_type": "code",
   "execution_count": 6,
   "metadata": {
    "collapsed": true
   },
   "outputs": [],
   "source": [
    "topic_files_dict = dict()\n",
    "for topic in topic_dict.keys():\n",
    "    topic_s = topic.replace(' ', '-')\n",
    "    topic_files_dict[topic] = open('dataset/topic/'+topic_s+'.txt', 'a')\n",
    "    topic_files_dict[topic].write(files[topic]['pro'].read())\n",
    "    topic_files_dict[topic].write(files[topic]['anti'].read())\n",
    "    topic_files_dict[topic].write(files[topic]['other'].read())\n",
    "    topic_files_dict[topic].close()"
   ]
  },
  {
   "cell_type": "code",
   "execution_count": 9,
   "metadata": {
    "collapsed": true
   },
   "outputs": [],
   "source": [
    "for topic in topic_dict.keys():\n",
    "    files[topic]['pro'].close()\n",
    "    files[topic]['anti'].close()\n",
    "    files[topic]['other'].close()"
   ]
  },
  {
   "cell_type": "markdown",
   "metadata": {},
   "source": [
    "# 3 Classes - by stances"
   ]
  },
  {
   "cell_type": "code",
   "execution_count": null,
   "metadata": {
    "collapsed": true
   },
   "outputs": [],
   "source": [
    "# topic files\n",
    "files = dict()\n",
    "for topic in topic_dict.keys():\n",
    "    topic_s = topic.replace(' ', '-')\n",
    "    files[topic] = {'pro': open('dataset/stance/'+topic_s+'.pro.txt', 'r'),\n",
    "                    'anti': open('dataset/stance/'+topic_s+'.anti.txt', 'r'),\n",
    "                    'other': open('dataset/stance/'+topic_s+'.other.txt', 'r')}"
   ]
  },
  {
   "cell_type": "code",
   "execution_count": 11,
   "metadata": {},
   "outputs": [],
   "source": [
    "polarity_files_dict = dict()\n",
    "polarity_files_dict['pro'] = open('dataset/polarity/pro.txt', 'a')\n",
    "polarity_files_dict['anti'] = open('dataset/polarity/anti.txt', 'a')\n",
    "polarity_files_dict['other'] = open('dataset/polarity/other.txt', 'a')\n",
    "for topic in topic_dict.keys():\n",
    "    polarity_files_dict['pro'].write(files[topic]['pro'].read())\n",
    "    polarity_files_dict['anti'].write(files[topic]['anti'].read())\n",
    "    polarity_files_dict['other'].write(files[topic]['other'].read())\n",
    "    "
   ]
  },
  {
   "cell_type": "code",
   "execution_count": null,
   "metadata": {
    "collapsed": true
   },
   "outputs": [],
   "source": [
    "for topic in topic_dict.keys():\n",
    "    files[topic]['pro'].close()\n",
    "    files[topic]['anti'].close()\n",
    "    files[topic]['other'].close()"
   ]
  }
 ],
 "metadata": {
  "kernelspec": {
   "display_name": "Python 3",
   "language": "python",
   "name": "python3"
  },
  "language_info": {
   "codemirror_mode": {
    "name": "ipython",
    "version": 3
   },
   "file_extension": ".py",
   "mimetype": "text/x-python",
   "name": "python",
   "nbconvert_exporter": "python",
   "pygments_lexer": "ipython3",
   "version": "3.5.3"
  }
 },
 "nbformat": 4,
 "nbformat_minor": 2
}
